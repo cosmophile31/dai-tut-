{
 "cells": [
  {
   "cell_type": "code",
   "execution_count": 243,
   "id": "e609e305",
   "metadata": {},
   "outputs": [],
   "source": [
    "import pandas as pd\n",
    "import numpy as np\n",
    "from sklearn.model_selection import train_test_split\n",
    "from sklearn.ensemble import RandomForestClassifier\n",
    "from sklearn.metrics import classification_report, roc_auc_score\n",
    "from imblearn.over_sampling import SMOTE\n",
    "from imblearn.under_sampling import RandomUnderSampler\n",
    "from imblearn.combine import SMOTEENN\n",
    "from imblearn.under_sampling import TomekLinks\n",
    "from sklearn.utils.class_weight import compute_class_weight"
   ]
  },
  {
   "cell_type": "code",
   "execution_count": 246,
   "id": "27bae962",
   "metadata": {},
   "outputs": [],
   "source": [
    "from imblearn.over_sampling import SMOTE\n",
    "from imblearn.under_sampling import RandomUnderSampler\n",
    "from imblearn.combine import SMOTEENN\n",
    "from imblearn.under_sampling import TomekLinks\n",
    "from sklearn.utils.class_weight import compute_class_weight "
   ]
  },
  {
   "cell_type": "code",
   "execution_count": null,
   "id": "0e1bb7a2",
   "metadata": {},
   "outputs": [],
   "source": [
    "df = pd.read_csv('\"C:\\Users\\Snehankita\\OneDrive\\Desktop\\python new\\weatherAUS.csv\"')\n"
   ]
  },
  {
   "cell_type": "code",
   "execution_count": 248,
   "id": "be246493",
   "metadata": {},
   "outputs": [
    {
     "name": "stdout",
     "output_type": "stream",
     "text": [
      "<class 'pandas.core.frame.DataFrame'>\n",
      "Index: 56420 entries, 6049 to 142302\n",
      "Data columns (total 21 columns):\n",
      " #   Column         Non-Null Count  Dtype  \n",
      "---  ------         --------------  -----  \n",
      " 0   Date           56420 non-null  object \n",
      " 1   Location       56420 non-null  object \n",
      " 2   Rainfall       56420 non-null  int64  \n",
      " 3   Evaporation    56420 non-null  int64  \n",
      " 4   Sunshine       56420 non-null  float64\n",
      " 5   WindGustDir    56420 non-null  object \n",
      " 6   WindGustSpeed  56420 non-null  float64\n",
      " 7   WindDir9am     56420 non-null  object \n",
      " 8   WindDir3pm     56420 non-null  object \n",
      " 9   WindSpeed9am   56420 non-null  float64\n",
      " 10  WindSpeed3pm   56420 non-null  float64\n",
      " 11  Humidity9am    56420 non-null  float64\n",
      " 12  Humidity3pm    56420 non-null  float64\n",
      " 13  Pressure9am    56420 non-null  float64\n",
      " 14  Pressure3pm    56420 non-null  float64\n",
      " 15  Cloud9am       56420 non-null  float64\n",
      " 16  Cloud3pm       56420 non-null  float64\n",
      " 17  Temp9am        56420 non-null  float64\n",
      " 18  Temp3pm        56420 non-null  float64\n",
      " 19  RainToday      56420 non-null  object \n",
      " 20  RainTomorrow   56420 non-null  object \n",
      "dtypes: float64(12), int64(2), object(7)\n",
      "memory usage: 9.5+ MB\n"
     ]
    }
   ],
   "source": [
    "df.info()"
   ]
  },
  {
   "cell_type": "code",
   "execution_count": null,
   "id": "c86a5413",
   "metadata": {},
   "outputs": [],
   "source": [
    "data = data.drop(columns=['Date'])\n",
    "df = df.dropna()"
   ]
  },
  {
   "cell_type": "code",
   "execution_count": null,
   "id": "865b0116",
   "metadata": {},
   "outputs": [],
   "source": [
    "X = data.drop('RainTomorrow', axis=1)\n",
    "y = data['RainTomorrow']"
   ]
  },
  {
   "cell_type": "code",
   "execution_count": 250,
   "id": "3ddd5845",
   "metadata": {},
   "outputs": [],
   "source": [
    "pd.set_option('display.max_rows', None)\n",
    "pd.set_option('display.max_columns', None)"
   ]
  },
  {
   "cell_type": "code",
   "execution_count": 251,
   "id": "7007dc23",
   "metadata": {},
   "outputs": [
    {
     "data": {
      "text/html": [
       "<div>\n",
       "<style scoped>\n",
       "    .dataframe tbody tr th:only-of-type {\n",
       "        vertical-align: middle;\n",
       "    }\n",
       "\n",
       "    .dataframe tbody tr th {\n",
       "        vertical-align: top;\n",
       "    }\n",
       "\n",
       "    .dataframe thead th {\n",
       "        text-align: right;\n",
       "    }\n",
       "</style>\n",
       "<table border=\"1\" class=\"dataframe\">\n",
       "  <thead>\n",
       "    <tr style=\"text-align: right;\">\n",
       "      <th></th>\n",
       "      <th>Date</th>\n",
       "      <th>Location</th>\n",
       "      <th>Rainfall</th>\n",
       "      <th>Evaporation</th>\n",
       "      <th>Sunshine</th>\n",
       "      <th>WindGustDir</th>\n",
       "      <th>WindGustSpeed</th>\n",
       "      <th>WindDir9am</th>\n",
       "      <th>WindDir3pm</th>\n",
       "      <th>WindSpeed9am</th>\n",
       "      <th>WindSpeed3pm</th>\n",
       "      <th>Humidity9am</th>\n",
       "      <th>Humidity3pm</th>\n",
       "      <th>Pressure9am</th>\n",
       "      <th>Pressure3pm</th>\n",
       "      <th>Cloud9am</th>\n",
       "      <th>Cloud3pm</th>\n",
       "      <th>Temp9am</th>\n",
       "      <th>Temp3pm</th>\n",
       "      <th>RainToday</th>\n",
       "      <th>RainTomorrow</th>\n",
       "    </tr>\n",
       "  </thead>\n",
       "  <tbody>\n",
       "    <tr>\n",
       "      <th>6049</th>\n",
       "      <td>2009-01-01</td>\n",
       "      <td>Cobar</td>\n",
       "      <td>0</td>\n",
       "      <td>120</td>\n",
       "      <td>12.3</td>\n",
       "      <td>SSW</td>\n",
       "      <td>48.0</td>\n",
       "      <td>ENE</td>\n",
       "      <td>SW</td>\n",
       "      <td>6.0</td>\n",
       "      <td>20.0</td>\n",
       "      <td>20.0</td>\n",
       "      <td>13.0</td>\n",
       "      <td>1006.3</td>\n",
       "      <td>1004.4</td>\n",
       "      <td>2.0</td>\n",
       "      <td>5.0</td>\n",
       "      <td>26.6</td>\n",
       "      <td>33.4</td>\n",
       "      <td>No</td>\n",
       "      <td>No</td>\n",
       "    </tr>\n",
       "    <tr>\n",
       "      <th>6050</th>\n",
       "      <td>2009-01-02</td>\n",
       "      <td>Cobar</td>\n",
       "      <td>0</td>\n",
       "      <td>140</td>\n",
       "      <td>13.0</td>\n",
       "      <td>S</td>\n",
       "      <td>37.0</td>\n",
       "      <td>SSE</td>\n",
       "      <td>SSE</td>\n",
       "      <td>19.0</td>\n",
       "      <td>19.0</td>\n",
       "      <td>30.0</td>\n",
       "      <td>8.0</td>\n",
       "      <td>1012.9</td>\n",
       "      <td>1012.1</td>\n",
       "      <td>1.0</td>\n",
       "      <td>1.0</td>\n",
       "      <td>20.3</td>\n",
       "      <td>27.0</td>\n",
       "      <td>No</td>\n",
       "      <td>No</td>\n",
       "    </tr>\n",
       "    <tr>\n",
       "      <th>6052</th>\n",
       "      <td>2009-01-04</td>\n",
       "      <td>Cobar</td>\n",
       "      <td>0</td>\n",
       "      <td>108</td>\n",
       "      <td>10.6</td>\n",
       "      <td>NNE</td>\n",
       "      <td>46.0</td>\n",
       "      <td>NNE</td>\n",
       "      <td>NNW</td>\n",
       "      <td>30.0</td>\n",
       "      <td>15.0</td>\n",
       "      <td>42.0</td>\n",
       "      <td>22.0</td>\n",
       "      <td>1012.3</td>\n",
       "      <td>1009.2</td>\n",
       "      <td>1.0</td>\n",
       "      <td>6.0</td>\n",
       "      <td>28.7</td>\n",
       "      <td>34.9</td>\n",
       "      <td>No</td>\n",
       "      <td>No</td>\n",
       "    </tr>\n",
       "    <tr>\n",
       "      <th>6053</th>\n",
       "      <td>2009-01-05</td>\n",
       "      <td>Cobar</td>\n",
       "      <td>0</td>\n",
       "      <td>114</td>\n",
       "      <td>12.2</td>\n",
       "      <td>WNW</td>\n",
       "      <td>31.0</td>\n",
       "      <td>WNW</td>\n",
       "      <td>WSW</td>\n",
       "      <td>6.0</td>\n",
       "      <td>6.0</td>\n",
       "      <td>37.0</td>\n",
       "      <td>22.0</td>\n",
       "      <td>1012.7</td>\n",
       "      <td>1009.1</td>\n",
       "      <td>1.0</td>\n",
       "      <td>5.0</td>\n",
       "      <td>29.1</td>\n",
       "      <td>35.6</td>\n",
       "      <td>No</td>\n",
       "      <td>No</td>\n",
       "    </tr>\n",
       "    <tr>\n",
       "      <th>6054</th>\n",
       "      <td>2009-01-06</td>\n",
       "      <td>Cobar</td>\n",
       "      <td>0</td>\n",
       "      <td>112</td>\n",
       "      <td>8.4</td>\n",
       "      <td>WNW</td>\n",
       "      <td>35.0</td>\n",
       "      <td>NW</td>\n",
       "      <td>WNW</td>\n",
       "      <td>17.0</td>\n",
       "      <td>13.0</td>\n",
       "      <td>19.0</td>\n",
       "      <td>15.0</td>\n",
       "      <td>1010.7</td>\n",
       "      <td>1007.4</td>\n",
       "      <td>1.0</td>\n",
       "      <td>6.0</td>\n",
       "      <td>33.6</td>\n",
       "      <td>37.6</td>\n",
       "      <td>No</td>\n",
       "      <td>No</td>\n",
       "    </tr>\n",
       "  </tbody>\n",
       "</table>\n",
       "</div>"
      ],
      "text/plain": [
       "            Date Location  Rainfall  Evaporation  Sunshine WindGustDir  \\\n",
       "6049  2009-01-01    Cobar         0          120      12.3         SSW   \n",
       "6050  2009-01-02    Cobar         0          140      13.0           S   \n",
       "6052  2009-01-04    Cobar         0          108      10.6         NNE   \n",
       "6053  2009-01-05    Cobar         0          114      12.2         WNW   \n",
       "6054  2009-01-06    Cobar         0          112       8.4         WNW   \n",
       "\n",
       "      WindGustSpeed WindDir9am WindDir3pm  WindSpeed9am  WindSpeed3pm  \\\n",
       "6049           48.0        ENE         SW           6.0          20.0   \n",
       "6050           37.0        SSE        SSE          19.0          19.0   \n",
       "6052           46.0        NNE        NNW          30.0          15.0   \n",
       "6053           31.0        WNW        WSW           6.0           6.0   \n",
       "6054           35.0         NW        WNW          17.0          13.0   \n",
       "\n",
       "      Humidity9am  Humidity3pm  Pressure9am  Pressure3pm  Cloud9am  Cloud3pm  \\\n",
       "6049         20.0         13.0       1006.3       1004.4       2.0       5.0   \n",
       "6050         30.0          8.0       1012.9       1012.1       1.0       1.0   \n",
       "6052         42.0         22.0       1012.3       1009.2       1.0       6.0   \n",
       "6053         37.0         22.0       1012.7       1009.1       1.0       5.0   \n",
       "6054         19.0         15.0       1010.7       1007.4       1.0       6.0   \n",
       "\n",
       "      Temp9am  Temp3pm RainToday RainTomorrow  \n",
       "6049     26.6     33.4        No           No  \n",
       "6050     20.3     27.0        No           No  \n",
       "6052     28.7     34.9        No           No  \n",
       "6053     29.1     35.6        No           No  \n",
       "6054     33.6     37.6        No           No  "
      ]
     },
     "execution_count": 251,
     "metadata": {},
     "output_type": "execute_result"
    }
   ],
   "source": [
    "df.head()"
   ]
  },
  {
   "cell_type": "code",
   "execution_count": 252,
   "id": "4aa1f8d4",
   "metadata": {},
   "outputs": [
    {
     "data": {
      "text/plain": [
       "(56420, 21)"
      ]
     },
     "execution_count": 252,
     "metadata": {},
     "output_type": "execute_result"
    }
   ],
   "source": [
    "df.shape"
   ]
  },
  {
   "cell_type": "code",
   "execution_count": 253,
   "id": "5c6f69ec",
   "metadata": {},
   "outputs": [
    {
     "data": {
      "text/plain": [
       "Date             0\n",
       "Location         0\n",
       "Rainfall         0\n",
       "Evaporation      0\n",
       "Sunshine         0\n",
       "WindGustDir      0\n",
       "WindGustSpeed    0\n",
       "WindDir9am       0\n",
       "WindDir3pm       0\n",
       "WindSpeed9am     0\n",
       "WindSpeed3pm     0\n",
       "Humidity9am      0\n",
       "Humidity3pm      0\n",
       "Pressure9am      0\n",
       "Pressure3pm      0\n",
       "Cloud9am         0\n",
       "Cloud3pm         0\n",
       "Temp9am          0\n",
       "Temp3pm          0\n",
       "RainToday        0\n",
       "RainTomorrow     0\n",
       "dtype: int64"
      ]
     },
     "execution_count": 253,
     "metadata": {},
     "output_type": "execute_result"
    }
   ],
   "source": [
    "df.isnull().sum()"
   ]
  },
  {
   "cell_type": "code",
   "execution_count": 254,
   "id": "8a2ce6d1",
   "metadata": {},
   "outputs": [],
   "source": [
    "df.dropna(inplace=True)"
   ]
  },
  {
   "cell_type": "code",
   "execution_count": 255,
   "id": "57c1f9d2",
   "metadata": {},
   "outputs": [
    {
     "data": {
      "text/plain": [
       "Date             0\n",
       "Location         0\n",
       "Rainfall         0\n",
       "Evaporation      0\n",
       "Sunshine         0\n",
       "WindGustDir      0\n",
       "WindGustSpeed    0\n",
       "WindDir9am       0\n",
       "WindDir3pm       0\n",
       "WindSpeed9am     0\n",
       "WindSpeed3pm     0\n",
       "Humidity9am      0\n",
       "Humidity3pm      0\n",
       "Pressure9am      0\n",
       "Pressure3pm      0\n",
       "Cloud9am         0\n",
       "Cloud3pm         0\n",
       "Temp9am          0\n",
       "Temp3pm          0\n",
       "RainToday        0\n",
       "RainTomorrow     0\n",
       "dtype: int64"
      ]
     },
     "execution_count": 255,
     "metadata": {},
     "output_type": "execute_result"
    }
   ],
   "source": [
    "df.isnull().sum()"
   ]
  },
  {
   "cell_type": "code",
   "execution_count": null,
   "id": "cf5cfb5c",
   "metadata": {},
   "outputs": [],
   "source": [
    "df.drop('MaxTemp', axis=1,inplace=True)"
   ]
  },
  {
   "cell_type": "code",
   "execution_count": null,
   "id": "20b2c7f4",
   "metadata": {},
   "outputs": [],
   "source": [
    "X = df.drop('RainToday', axis=1)\n",
    "y = df['RainToday']\n"
   ]
  },
  {
   "cell_type": "code",
   "execution_count": 292,
   "id": "bb003526",
   "metadata": {},
   "outputs": [
    {
     "name": "stdout",
     "output_type": "stream",
     "text": [
      "Original class distribution: Counter({0: 35194, 1: 9942})\n",
      "New class distribution after SMOTE: Counter({0: 35194, 1: 35194})\n"
     ]
    }
   ],
   "source": [
    "\n",
    "X_train, X_test, y_train, y_test = train_test_split(X, y, test_size=0.2, random_state=42)\n",
    "\n",
    "\n",
    "print(\"Original class distribution:\", Counter(y_train))\n",
    "smote = SMOTE(random_state=42)\n",
    "X_smote, y_smote = smote.fit_resample(X_train, y_train)\n",
    "print(\"New class distribution after SMOTE:\", Counter(y_smote))\n",
    "\n"
   ]
  },
  {
   "cell_type": "code",
   "execution_count": 293,
   "id": "33f8f0ec",
   "metadata": {},
   "outputs": [
    {
     "name": "stdout",
     "output_type": "stream",
     "text": [
      "\n",
      "SMOTE:\n",
      "              precision    recall  f1-score   support\n",
      "\n",
      "           0       0.90      0.91      0.90      8799\n",
      "           1       0.66      0.66      0.66      2485\n",
      "\n",
      "    accuracy                           0.85     11284\n",
      "   macro avg       0.78      0.78      0.78     11284\n",
      "weighted avg       0.85      0.85      0.85     11284\n",
      "\n",
      "AUC: 0.893965520592586\n",
      "\n",
      "Class Weights:\n",
      "              precision    recall  f1-score   support\n",
      "\n",
      "           0       0.87      0.96      0.91      8799\n",
      "           1       0.78      0.50      0.61      2485\n",
      "\n",
      "    accuracy                           0.86     11284\n",
      "   macro avg       0.83      0.73      0.76     11284\n",
      "weighted avg       0.85      0.86      0.85     11284\n",
      "\n",
      "AUC: 0.8951624967443026\n"
     ]
    }
   ],
   "source": [
    "\n",
    "class_weights = compute_class_weight(class_weight='balanced', classes=np.unique(y_train), y=y_train)\n",
    "class_weights_dict = dict(enumerate(class_weights))\n",
    "\n",
    "def evaluate_model(X_train, y_train, X_test, y_test, class_weights=None):\n",
    "    model = RandomForestClassifier(class_weight=class_weights, random_state=42)\n",
    "    model.fit(X_train, y_train)\n",
    "    y_pred = model.predict(X_test)\n",
    "    y_prob = model.predict_proba(X_test)[:, 1]\n",
    "    \n",
    "    print(classification_report(y_test, y_pred))\n",
    "    print(\"AUC:\", roc_auc_score(y_test, y_prob))\n",
    "\n",
    "# Evaluate model on SMOTE data\n",
    "print(\"\\nSMOTE:\")\n",
    "evaluate_model(X_smote, y_smote, X_test, y_test)\n",
    "\n",
    "# Evaluate model with original data using class weights\n",
    "print(\"\\nClass Weights:\")\n",
    "evaluate_model(X_train, y_train, X_test, y_test, class_weights_dict)\n",
    "     "
   ]
  },
  {
   "cell_type": "markdown",
   "id": "983e8219",
   "metadata": {},
   "source": [
    "Random under sampling"
   ]
  },
  {
   "cell_type": "code",
   "execution_count": null,
   "id": "6e0ff3d0",
   "metadata": {},
   "outputs": [],
   "source": [
    "print(\"Original class distribution:\", Counter(y_train))\n",
    "rus = RandomUnderSampler(random_state=42)\n",
    "X_rus, y_rus = rus.fit_resample(X_train, y_train)\n",
    "print(\"Original class distribution:\", Counter(y_rus))"
   ]
  },
  {
   "cell_type": "markdown",
   "id": "379904af",
   "metadata": {},
   "source": [
    "Random over sampling"
   ]
  },
  {
   "cell_type": "code",
   "execution_count": 287,
   "id": "ea2aac3a",
   "metadata": {},
   "outputs": [
    {
     "name": "stdout",
     "output_type": "stream",
     "text": [
      "Original class distribution: Counter({0: 35194, 1: 9942})\n",
      "Original class distribution: Counter({0: 35194, 1: 35194})\n"
     ]
    }
   ],
   "source": [
    "from imblearn.over_sampling import RandomOverSampler\n",
    "print(\"Original class distribution:\", Counter(y_train))\n",
    "ros = RandomOverSampler(random_state=42)\n",
    "X_ros, y_ros = ros.fit_resample(X_train, y_train)\n",
    "print(\"Original class distribution:\", Counter(y_ros))\n",
    "     "
   ]
  },
  {
   "cell_type": "code",
   "execution_count": 288,
   "id": "d09960ed",
   "metadata": {},
   "outputs": [],
   "source": [
    "from sklearn.preprocessing import LabelEncoder"
   ]
  },
  {
   "cell_type": "code",
   "execution_count": 289,
   "id": "1858f793",
   "metadata": {},
   "outputs": [],
   "source": [
    "label_encoder = LabelEncoder()"
   ]
  },
  {
   "cell_type": "code",
   "execution_count": 290,
   "id": "a21f2fe6",
   "metadata": {},
   "outputs": [],
   "source": [
    "df['Rainfall'] = label_encoder.fit_transform(df['Rainfall'])"
   ]
  },
  {
   "cell_type": "code",
   "execution_count": 262,
   "id": "4be7176a",
   "metadata": {},
   "outputs": [
    {
     "name": "stdout",
     "output_type": "stream",
     "text": [
      "            Date Location  Rainfall  Evaporation  Sunshine WindGustDir  \\\n",
      "6049  2009-01-01    Cobar         0          120      12.3         SSW   \n",
      "6050  2009-01-02    Cobar         0          140      13.0           S   \n",
      "6052  2009-01-04    Cobar         0          108      10.6         NNE   \n",
      "6053  2009-01-05    Cobar         0          114      12.2         WNW   \n",
      "6054  2009-01-06    Cobar         0          112       8.4         WNW   \n",
      "\n",
      "      WindGustSpeed WindDir9am WindDir3pm  WindSpeed9am  WindSpeed3pm  \\\n",
      "6049           48.0        ENE         SW           6.0          20.0   \n",
      "6050           37.0        SSE        SSE          19.0          19.0   \n",
      "6052           46.0        NNE        NNW          30.0          15.0   \n",
      "6053           31.0        WNW        WSW           6.0           6.0   \n",
      "6054           35.0         NW        WNW          17.0          13.0   \n",
      "\n",
      "      Humidity9am  Humidity3pm  Pressure9am  Pressure3pm  Cloud9am  Cloud3pm  \\\n",
      "6049         20.0         13.0       1006.3       1004.4       2.0       5.0   \n",
      "6050         30.0          8.0       1012.9       1012.1       1.0       1.0   \n",
      "6052         42.0         22.0       1012.3       1009.2       1.0       6.0   \n",
      "6053         37.0         22.0       1012.7       1009.1       1.0       5.0   \n",
      "6054         19.0         15.0       1010.7       1007.4       1.0       6.0   \n",
      "\n",
      "      Temp9am  Temp3pm RainToday RainTomorrow  \n",
      "6049     26.6     33.4        No           No  \n",
      "6050     20.3     27.0        No           No  \n",
      "6052     28.7     34.9        No           No  \n",
      "6053     29.1     35.6        No           No  \n",
      "6054     33.6     37.6        No           No  \n"
     ]
    }
   ],
   "source": [
    "print(df.head())"
   ]
  },
  {
   "cell_type": "code",
   "execution_count": 264,
   "id": "10e00c96",
   "metadata": {},
   "outputs": [],
   "source": [
    "label_encoder = LabelEncoder()"
   ]
  },
  {
   "cell_type": "code",
   "execution_count": 265,
   "id": "4615dd53",
   "metadata": {},
   "outputs": [],
   "source": [
    "df['Evaporation'] = label_encoder.fit_transform(df['Evaporation'])"
   ]
  },
  {
   "cell_type": "code",
   "execution_count": 267,
   "id": "f048efe8",
   "metadata": {},
   "outputs": [],
   "source": [
    "X = df.drop('RainToday', axis=1)\n",
    "y = df['RainToday']"
   ]
  },
  {
   "cell_type": "code",
   "execution_count": 268,
   "id": "0eeb58f4",
   "metadata": {},
   "outputs": [],
   "source": [
    "X_train, X_test, y_train, y_test = train_test_split(X, y, test_size=0.2, random_state=42)"
   ]
  },
  {
   "cell_type": "markdown",
   "id": "9e6d181d",
   "metadata": {},
   "source": [
    "Random under sampling"
   ]
  },
  {
   "cell_type": "code",
   "execution_count": 269,
   "id": "55537769",
   "metadata": {},
   "outputs": [
    {
     "name": "stdout",
     "output_type": "stream",
     "text": [
      "Original class distribution: Counter({'No': 35177, 'Yes': 9959})\n",
      "Original class distribution: Counter({'No': 9959, 'Yes': 9959})\n"
     ]
    }
   ],
   "source": [
    "print(\"Original class distribution:\", Counter(y_train))\n",
    "rus = RandomUnderSampler(random_state=42)\n",
    "X_rus, y_rus = rus.fit_resample(X_train, y_train)\n",
    "print(\"Original class distribution:\", Counter(y_rus))\n",
    "     "
   ]
  },
  {
   "cell_type": "raw",
   "id": "89d1a4f8",
   "metadata": {},
   "source": [
    "Random over sampling"
   ]
  },
  {
   "cell_type": "code",
   "execution_count": 294,
   "id": "e8dd3e6f",
   "metadata": {},
   "outputs": [
    {
     "name": "stdout",
     "output_type": "stream",
     "text": [
      "Original class distribution: Counter({0: 35194, 1: 9942})\n",
      "Original class distribution: Counter({0: 35194, 1: 35194})\n"
     ]
    }
   ],
   "source": [
    "from imblearn.over_sampling import RandomOverSampler\n",
    "print(\"Original class distribution:\", Counter(y_train))\n",
    "ros = RandomOverSampler(random_state=42)\n",
    "X_ros, y_ros = ros.fit_resample(X_train, y_train)\n",
    "print(\"Original class distribution:\", Counter(y_ros))"
   ]
  },
  {
   "cell_type": "code",
   "execution_count": 295,
   "id": "5f2fa74d",
   "metadata": {},
   "outputs": [],
   "source": []
  },
  {
   "cell_type": "code",
   "execution_count": null,
   "id": "f541af5d",
   "metadata": {},
   "outputs": [],
   "source": []
  }
 ],
 "metadata": {
  "kernelspec": {
   "display_name": "Python [conda env:ds_env] *",
   "language": "python",
   "name": "conda-env-ds_env-py"
  },
  "language_info": {
   "codemirror_mode": {
    "name": "ipython",
    "version": 3
   },
   "file_extension": ".py",
   "mimetype": "text/x-python",
   "name": "python",
   "nbconvert_exporter": "python",
   "pygments_lexer": "ipython3",
   "version": "3.12.4"
  }
 },
 "nbformat": 4,
 "nbformat_minor": 5
}
